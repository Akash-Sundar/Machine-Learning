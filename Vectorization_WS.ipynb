{
  "nbformat": 4,
  "nbformat_minor": 0,
  "metadata": {
    "colab": {
      "provenance": [],
      "collapsed_sections": []
    },
    "kernelspec": {
      "name": "python3",
      "display_name": "Python 3"
    }
  },
  "cells": [
    {
      "cell_type": "markdown",
      "metadata": {
        "id": "CKhzFNvIJe4P"
      },
      "source": [
        "## **CIS 520: Machine Learning**\n",
        "## **Array Practice**\n",
        "\n",
        "\n",
        "- **Content Creators:** Pengrui Wang, Siyun Hu, Ani Cowlagi\n",
        "- **Content Reviewers:** Lyle Ungar\n",
        "- **Objectives:** This is a self-practice for working with numpy arrays.\n",
        "\n",
        "If you are not familar with NumPy, feel free to refer to [NumPy Tutorial](https://github.com/ageron/handson-ml/blob/master/tools_numpy.ipynb) and [Vectorization Notebook](https://drive.google.com/file/d/19IJK8mxCg8ww9W0lJQuAaVbzek4wBLsw/view?usp=sharing).\n"
      ]
    },
    {
      "cell_type": "code",
      "metadata": {
        "id": "9a2WsE_I5P3N",
        "cellView": "form"
      },
      "source": [
        "#@markdown Tell us your thoughts about what you want to learn.\n",
        "thoughts = '' #@param {type:\"string\"}\n",
        "import time\n",
        "try: t0;\n",
        "except NameError: t0=time.time()"
      ],
      "execution_count": null,
      "outputs": []
    },
    {
      "cell_type": "markdown",
      "metadata": {
        "id": "Tn3wuswcj3fw"
      },
      "source": [
        "## **Autograding and the PennGrader**\n",
        "\n",
        "First, you'll need to set up the PennGrader, which we'll be using throughout the semester to help you with your homeworks and worksheeets.\n",
        "\n",
        "PennGrader is not only **awesome**, but it was built by an equally awesome person: Leo Murri.  Today, Leo works as a data scientist at Amazon!\n",
        "\n",
        "PennGrader was developed to provide students with *instant* feedback on their answer. You can submit your answer and know whether it's right or wrong instantly. We then record your most recent answer in our backend database.\n",
        "\n",
        "Enter your PennID (numbers not letters!) in the specified section."
      ]
    },
    {
      "cell_type": "markdown",
      "source": [
        "### Imports and Setup (Do Not Modify This Section)"
      ],
      "metadata": {
        "id": "fdSYsUbBW-Yr"
      }
    },
    {
      "cell_type": "code",
      "metadata": {
        "id": "AFixFKy2kAev"
      },
      "source": [
        "%%capture\n",
        "!pip install penngrader\n"
      ],
      "execution_count": null,
      "outputs": []
    },
    {
      "cell_type": "code",
      "source": [
        "import random \n",
        "import numpy as np\n",
        "import pandas as pd\n",
        "import os\n",
        "import sys\n",
        "import matplotlib.pyplot as plt\n",
        "from numpy.linalg import *\n",
        "\n",
        "import dill\n",
        "import base64"
      ],
      "metadata": {
        "id": "HFBgYui-WnCl"
      },
      "execution_count": null,
      "outputs": []
    },
    {
      "cell_type": "code",
      "source": [
        "# For autograder only, do not modify this cell. \n",
        "# True for Google Colab, False for autograder\n",
        "NOTEBOOK = (os.getenv('IS_AUTOGRADER') is None)\n",
        "if NOTEBOOK:\n",
        "    print(\"[INFO, OK] Google Colab.\")\n",
        "else:\n",
        "    print(\"[INFO, OK] Autograder.\")\n",
        "    sys.exit()"
      ],
      "metadata": {
        "colab": {
          "base_uri": "https://localhost:8080/"
        },
        "id": "Wql2sB6dW6x-",
        "outputId": "f08cdfd1-f116-4b5d-aa47-403171d12089"
      },
      "execution_count": null,
      "outputs": [
        {
          "output_type": "stream",
          "name": "stdout",
          "text": [
            "[INFO, OK] Google Colab.\n"
          ]
        }
      ]
    },
    {
      "cell_type": "markdown",
      "source": [
        "### Insert PennID here!"
      ],
      "metadata": {
        "id": "3f1c5R-ZXCwC"
      }
    },
    {
      "cell_type": "code",
      "metadata": {
        "id": "kcS79C9blJBm"
      },
      "source": [
        "#PLEASE ENSURE YOUR PENN-ID IS ENTERED CORRECTLY. IF NOT, THE AUTOGRADER WON'T KNOW WHO \n",
        "#TO ASSIGN POINTS TO YOU IN OUR BACKEND\n",
        "STUDENT_ID = 99999999 # YOUR PENN-ID GOES HERE AS AN INTEGER#"
      ],
      "execution_count": null,
      "outputs": []
    },
    {
      "cell_type": "code",
      "metadata": {
        "id": "wd0oMe8glNnA",
        "colab": {
          "base_uri": "https://localhost:8080/"
        },
        "outputId": "5c419b9b-3c94-482f-b693-c70552fd403b"
      },
      "source": [
        "import penngrader.grader\n",
        "\n",
        "grader = penngrader.grader.PennGrader(homework_id = 'CIS_5200_202230_HW_Vectorization_WS', student_id = STUDENT_ID)"
      ],
      "execution_count": null,
      "outputs": [
        {
          "output_type": "stream",
          "name": "stdout",
          "text": [
            "PennGrader initialized with Student ID: 99999999\n",
            "\n",
            "Make sure this correct or we will not be able to store your grade\n"
          ]
        }
      ]
    },
    {
      "cell_type": "code",
      "source": [
        "# A helper function for grading utils\n",
        "def grader_serialize(obj):        # A helper function\n",
        "    '''Dill serializes Python object into a UTF-8 string'''\n",
        "    byte_serialized = dill.dumps(obj, recurse = True)\n",
        "    return base64.b64encode(byte_serialized).decode(\"utf-8\")"
      ],
      "metadata": {
        "id": "oxdWoARsXS-0"
      },
      "execution_count": null,
      "outputs": []
    },
    {
      "cell_type": "markdown",
      "metadata": {
        "id": "OS3_T8a_At-4"
      },
      "source": [
        "## **Introduction**\n",
        "\n",
        "Python for loops are inherently far slower than their C counterpart as these loops are interpreted at runtime rather than at compile time. As a result, they should be avoided at all costs whenever speed is important. Numpy tries to solve this issue. \n",
        "\n",
        "NumPy is a scientific computing library for Python. It allows users to work efficiently with large, multi-dimensional arrays and matrices, along with a large collection of high-level mathematical functions to operate on these arrays. NumPy is used extensively by almost every core scientific computing package used in Python (Scikit-Learn, Scipy, Pandas, Matplotlib, etc.). As a result, it is a key goal of this course to become proficient at working with NumPy arrays -- no more loops! \n",
        "\n",
        "This worksheet walks you through how NumPy can be used to *vectorize* array operations. You will benefit a lot if you keep the idea of vectorization in mind when you write Python code. \n",
        "\n"
      ]
    },
    {
      "cell_type": "markdown",
      "metadata": {
        "id": "sgpdmB8-Nzei"
      },
      "source": [
        "\n",
        "### Comparison Metrics\n",
        "\n",
        "Jupyter notebooks provide built-in commands called **magics** to address common problems in the data analysis workflow. For example,\n",
        "\n",
        "- *line* magics are denoted by a single `%`\n",
        "- *cell* magics that apply to the entire cell are denoted by a double `%%`\n"
      ]
    },
    {
      "cell_type": "markdown",
      "metadata": {
        "id": "DaOA_ijjBFy7"
      },
      "source": [
        "Perhaps, the most useful magic functions are `time` and `timeit`\n",
        "\n",
        "- `time` times the amount of time used for a single run of the line of code or cell\n",
        "- `timeit` runs multiple trials of the line of code or cell to provide a more accurate measurement of the execution time"
      ]
    },
    {
      "cell_type": "code",
      "metadata": {
        "id": "4mCnkqHnBwNV",
        "colab": {
          "base_uri": "https://localhost:8080/"
        },
        "outputId": "b1ffea3c-9d1b-40c3-cabe-7ac8b62dabb8"
      },
      "source": [
        "%time odd_squares = [num ** 2 for num in range(100000) if num % 2 == 1]"
      ],
      "execution_count": null,
      "outputs": [
        {
          "output_type": "stream",
          "name": "stdout",
          "text": [
            "CPU times: user 24.7 ms, sys: 1.03 ms, total: 25.8 ms\n",
            "Wall time: 27.5 ms\n"
          ]
        }
      ]
    },
    {
      "cell_type": "code",
      "metadata": {
        "id": "ngdZvR1QB6Lh",
        "colab": {
          "base_uri": "https://localhost:8080/"
        },
        "outputId": "ce502dca-6abf-475d-e569-b5a0913f18ca"
      },
      "source": [
        "%timeit odd_squares = [num ** 2 for num in range(100000) if num % 2 == 1]"
      ],
      "execution_count": null,
      "outputs": [
        {
          "output_type": "stream",
          "name": "stdout",
          "text": [
            "21.6 ms ± 618 µs per loop (mean ± std. dev. of 7 runs, 10 loops each)\n"
          ]
        }
      ]
    },
    {
      "cell_type": "code",
      "metadata": {
        "id": "Cs5dc0wdCWkP",
        "colab": {
          "base_uri": "https://localhost:8080/"
        },
        "outputId": "340d3b20-7933-4f10-8989-962386009c24"
      },
      "source": [
        "# we can also time entire cells\n",
        "%%time\n",
        "\n",
        "nums = range(100000)\n",
        "odd_squares = []\n",
        "\n",
        "for num in nums:\n",
        "  if num % 2 == 1:\n",
        "    odd_squares.append(num**2)"
      ],
      "execution_count": null,
      "outputs": [
        {
          "output_type": "stream",
          "name": "stdout",
          "text": [
            "CPU times: user 29.1 ms, sys: 0 ns, total: 29.1 ms\n",
            "Wall time: 29.2 ms\n"
          ]
        }
      ]
    },
    {
      "cell_type": "code",
      "metadata": {
        "id": "oCC75kOFC8tI",
        "colab": {
          "base_uri": "https://localhost:8080/"
        },
        "outputId": "bda4b502-c9c3-4eb1-e078-d35da3626589"
      },
      "source": [
        "%%timeit\n",
        "\n",
        "nums = range(100000)\n",
        "odd_squares = []\n",
        "\n",
        "for num in nums:\n",
        "  if num % 2 == 1:\n",
        "    odd_squares.append(num**2)"
      ],
      "execution_count": null,
      "outputs": [
        {
          "output_type": "stream",
          "name": "stdout",
          "text": [
            "24.2 ms ± 705 µs per loop (mean ± std. dev. of 7 runs, 10 loops each)\n"
          ]
        }
      ]
    },
    {
      "cell_type": "markdown",
      "metadata": {
        "id": "8H6RGeI8CQPY"
      },
      "source": [
        "**Interpreting timeit output**\n",
        "\n",
        "- x loops: the number of loops (factors of 10) of the code needed to exceed 0.2 seconds of wall time\n",
        "- best of 3: run the loop trials three times, take the best results\n",
        "- x ms per loop: the amount of time the code took to execute under the best run\n",
        "\n",
        "By leveraging `time` and `timeit`, we could evaluate the time we use to run different cells, so as to understand the advantages of vectorization."
      ]
    },
    {
      "cell_type": "markdown",
      "metadata": {
        "id": "9F4hgqLWFMvF"
      },
      "source": [
        "### Imports\n",
        "\n",
        "- we need to import the NumPy module below in order to use it\n",
        "- we often use the `as` syntax to alias the module name to an abbreviation"
      ]
    },
    {
      "cell_type": "code",
      "metadata": {
        "id": "cJK8_Y_MDpSY"
      },
      "source": [
        "# subsequent references to the numpy module can use 'np'\n",
        "import numpy as np\n",
        "import math"
      ],
      "execution_count": null,
      "outputs": []
    },
    {
      "cell_type": "markdown",
      "metadata": {
        "id": "qLH8QZn6DcMh"
      },
      "source": [
        "## Vectorization\n",
        "\n",
        "For example, let's say we want to generate a 768x1024 array based on the formula $sin(xy/40.5)$. A bad option would be to do the math in python using nested loops:"
      ]
    },
    {
      "cell_type": "code",
      "metadata": {
        "colab": {
          "base_uri": "https://localhost:8080/"
        },
        "id": "-2BSPxUnDUyj",
        "outputId": "92551467-5a6d-471a-e854-8417232ac562"
      },
      "source": [
        "%%timeit\n",
        "# for loop - inefficient\n",
        "data = np.empty((768, 1024))\n",
        "for y in range(768):\n",
        "    for x in range(1024):\n",
        "        data[y, x] = math.sin(x*y/40.5)  "
      ],
      "execution_count": null,
      "outputs": [
        {
          "output_type": "stream",
          "name": "stdout",
          "text": [
            "346 ms ± 10.9 ms per loop (mean ± std. dev. of 7 runs, 1 loop each)\n"
          ]
        }
      ]
    },
    {
      "cell_type": "code",
      "metadata": {
        "colab": {
          "base_uri": "https://localhost:8080/"
        },
        "id": "Nnq7aMPZDv4e",
        "outputId": "6fb1d152-270d-4522-a3bf-f390feb849f4"
      },
      "source": [
        "%%timeit\n",
        "x_coords = np.arange(0, 1024)  # [0, 1, 2, ..., 1023]\n",
        "y_coords = np.arange(0, 768)   # [0, 1, 2, ..., 767]\n",
        "X, Y = np.meshgrid(x_coords, y_coords)\n",
        "data = np.sin(X*Y/40.5)"
      ],
      "execution_count": null,
      "outputs": [
        {
          "output_type": "stream",
          "name": "stdout",
          "text": [
            "26.6 ms ± 1.3 ms per loop (mean ± std. dev. of 7 runs, 10 loops each)\n"
          ]
        }
      ]
    },
    {
      "cell_type": "markdown",
      "metadata": {
        "id": "l0iLxYbgEQEd"
      },
      "source": [
        "Rather than for loop, we use `np.meshgrid` and `np.sin` to vectorize this algorithm. The result shows that, vectorization reduces the execution time by more than 10 times."
      ]
    },
    {
      "cell_type": "markdown",
      "metadata": {
        "id": "IFWCVKB2G_4q"
      },
      "source": [
        "Here is another example that uses `np.sum` to vectorize a summation operation."
      ]
    },
    {
      "cell_type": "code",
      "metadata": {
        "id": "YiQUYih_HrBQ",
        "colab": {
          "base_uri": "https://localhost:8080/"
        },
        "outputId": "ace7ebb2-f654-42d9-a9ef-2362fe35e467"
      },
      "source": [
        "%%timeit\n",
        "# Don't do this!!\n",
        "vec = np.array(range(10000))\n",
        "sum_v = 0\n",
        "for i in range(10000):\n",
        "  sum_v += vec[i]"
      ],
      "execution_count": null,
      "outputs": [
        {
          "output_type": "stream",
          "name": "stdout",
          "text": [
            "2.64 ms ± 65.7 µs per loop (mean ± std. dev. of 7 runs, 100 loops each)\n"
          ]
        }
      ]
    },
    {
      "cell_type": "code",
      "metadata": {
        "id": "ub-efOtIQ0Hw",
        "colab": {
          "base_uri": "https://localhost:8080/"
        },
        "outputId": "9fbf9fbe-2c24-4ae4-d998-7ff6f8bdd507"
      },
      "source": [
        "%%timeit\n",
        "# Vectorize instead\n",
        "vec = np.array(range(10000))\n",
        "sum_v = np.sum(vec)"
      ],
      "execution_count": null,
      "outputs": [
        {
          "output_type": "stream",
          "name": "stdout",
          "text": [
            "881 µs ± 19.2 µs per loop (mean ± std. dev. of 7 runs, 1000 loops each)\n"
          ]
        }
      ]
    },
    {
      "cell_type": "markdown",
      "metadata": {
        "id": "P_fwPXc2YlhI"
      },
      "source": [
        "However, what is the behavior of  `np.sum()` if our array has more than one dimension?\n",
        "\n",
        "- Use the `axis` argument: specifies which axis to sum along\n",
        "- Many other vectorized functions take the axis argument, so keep in mind which dimension you want the operation applied to"
      ]
    },
    {
      "cell_type": "code",
      "metadata": {
        "id": "mimyqZlXZAeU",
        "colab": {
          "base_uri": "https://localhost:8080/"
        },
        "outputId": "fc220073-ca9b-44c4-83c3-1b894ef9e077"
      },
      "source": [
        "A = np.array([[1,2,3], [4,5,6], [7,8,9]])\n",
        "print(A)\n",
        "print(A.shape)"
      ],
      "execution_count": null,
      "outputs": [
        {
          "output_type": "stream",
          "name": "stdout",
          "text": [
            "[[1 2 3]\n",
            " [4 5 6]\n",
            " [7 8 9]]\n",
            "(3, 3)\n"
          ]
        }
      ]
    },
    {
      "cell_type": "code",
      "metadata": {
        "id": "Qfiv6uMXZ37b",
        "colab": {
          "base_uri": "https://localhost:8080/"
        },
        "outputId": "86dd645d-9fba-453b-9185-8ce2e08c59b8"
      },
      "source": [
        "# By default, axis=None and np.sum will sum all elements of the array\n",
        "print(np.sum(A))"
      ],
      "execution_count": null,
      "outputs": [
        {
          "output_type": "stream",
          "name": "stdout",
          "text": [
            "45\n"
          ]
        }
      ]
    },
    {
      "cell_type": "code",
      "metadata": {
        "id": "j4_Z0eaW54lO",
        "colab": {
          "base_uri": "https://localhost:8080/"
        },
        "outputId": "1a29dbc3-e154-4e9c-fbb7-6396f6ceb7a5"
      },
      "source": [
        "# axis=0 sums along rows, producing column totals\n",
        "print(np.sum(A, axis=0))"
      ],
      "execution_count": null,
      "outputs": [
        {
          "output_type": "stream",
          "name": "stdout",
          "text": [
            "[12 15 18]\n"
          ]
        }
      ]
    },
    {
      "cell_type": "code",
      "metadata": {
        "id": "iNz43b8f55nj",
        "colab": {
          "base_uri": "https://localhost:8080/"
        },
        "outputId": "657c5cc1-07e5-4726-9706-0ee011bc8941"
      },
      "source": [
        "# axis=0 sums along columns, producing row totals\n",
        "print(np.sum(A, axis=1))"
      ],
      "execution_count": null,
      "outputs": [
        {
          "output_type": "stream",
          "name": "stdout",
          "text": [
            "[ 6 15 24]\n"
          ]
        }
      ]
    },
    {
      "cell_type": "markdown",
      "metadata": {
        "id": "oZl7xR4LnGzz"
      },
      "source": [
        "## Case Study: YamSlam!\n",
        "![](https://alliance.seas.upenn.edu/~cis520/dynamic/2019/wiki/images/yamslam.png)\n",
        "\n",
        "Below is a comprehensive case that uses NumPy array.\n",
        "\n",
        "- Given 3 chances to roll,\n",
        "how likely is it that you\n",
        "will roll 5 of a kind?\n",
        "- Strategy: Pick the most\n",
        "common #, and re-roll\n",
        "dice that don’t match"
      ]
    },
    {
      "cell_type": "markdown",
      "metadata": {
        "id": "RIdCV4VrnZY1"
      },
      "source": [
        "### Rolling 5 Dice\n"
      ]
    },
    {
      "cell_type": "markdown",
      "metadata": {
        "id": "JJm-06_nZxbk"
      },
      "source": [
        "\n",
        "```python\n",
        "y = np.zeros(5)       \n",
        "roll_idx = np.array(range(5))\n",
        "y[roll_idx] = np.floor(np.random.uniform(0,6, roll_idx.shape))\n",
        "```\n",
        "\n",
        "---\n",
        "\n",
        "\n",
        "- `np.zeros(5)` creates an array of zeros of shape (5,)\n",
        "  - **Note:** this is a 1D array with 5 elements, which is different than an 2D array with only one column, shape (5,1)\n",
        "- `np.array(range(5))` creates an array \\[0,1,2,3,4\\] of shape (5,)\n",
        "- `np.random.uniform(0,6, roll_idx.shape)` samples from the uniform distribution in the range \\[0, 6) in the given shape\n",
        "- `np.floor` rounds down to the nearest integer\n",
        "  - **Note:** we're using zero-indexed dice, so our possible rolls are \\[0,1,2,3,4,5\\]\n",
        "  \n",
        "*Tip: If you are unsure of a function's arguments or return signature, you can run `help(function_name)` to print the docstring*"
      ]
    },
    {
      "cell_type": "code",
      "metadata": {
        "id": "vVqHU3URbN2_",
        "colab": {
          "base_uri": "https://localhost:8080/"
        },
        "outputId": "aa8fa915-52c2-4616-dfc4-8d6950a0dd03"
      },
      "source": [
        "help(np.random.uniform)"
      ],
      "execution_count": null,
      "outputs": [
        {
          "output_type": "stream",
          "name": "stdout",
          "text": [
            "Help on built-in function uniform:\n",
            "\n",
            "uniform(...) method of numpy.random.mtrand.RandomState instance\n",
            "    uniform(low=0.0, high=1.0, size=None)\n",
            "    \n",
            "    Draw samples from a uniform distribution.\n",
            "    \n",
            "    Samples are uniformly distributed over the half-open interval\n",
            "    ``[low, high)`` (includes low, but excludes high).  In other words,\n",
            "    any value within the given interval is equally likely to be drawn\n",
            "    by `uniform`.\n",
            "    \n",
            "    .. note::\n",
            "        New code should use the ``uniform`` method of a ``default_rng()``\n",
            "        instance instead; please see the :ref:`random-quick-start`.\n",
            "    \n",
            "    Parameters\n",
            "    ----------\n",
            "    low : float or array_like of floats, optional\n",
            "        Lower boundary of the output interval.  All values generated will be\n",
            "        greater than or equal to low.  The default value is 0.\n",
            "    high : float or array_like of floats\n",
            "        Upper boundary of the output interval.  All values generated will be\n",
            "        less than or equal to high.  The default value is 1.0.\n",
            "    size : int or tuple of ints, optional\n",
            "        Output shape.  If the given shape is, e.g., ``(m, n, k)``, then\n",
            "        ``m * n * k`` samples are drawn.  If size is ``None`` (default),\n",
            "        a single value is returned if ``low`` and ``high`` are both scalars.\n",
            "        Otherwise, ``np.broadcast(low, high).size`` samples are drawn.\n",
            "    \n",
            "    Returns\n",
            "    -------\n",
            "    out : ndarray or scalar\n",
            "        Drawn samples from the parameterized uniform distribution.\n",
            "    \n",
            "    See Also\n",
            "    --------\n",
            "    randint : Discrete uniform distribution, yielding integers.\n",
            "    random_integers : Discrete uniform distribution over the closed\n",
            "                      interval ``[low, high]``.\n",
            "    random_sample : Floats uniformly distributed over ``[0, 1)``.\n",
            "    random : Alias for `random_sample`.\n",
            "    rand : Convenience function that accepts dimensions as input, e.g.,\n",
            "           ``rand(2,2)`` would generate a 2-by-2 array of floats,\n",
            "           uniformly distributed over ``[0, 1)``.\n",
            "    Generator.uniform: which should be used for new code.\n",
            "    \n",
            "    Notes\n",
            "    -----\n",
            "    The probability density function of the uniform distribution is\n",
            "    \n",
            "    .. math:: p(x) = \\frac{1}{b - a}\n",
            "    \n",
            "    anywhere within the interval ``[a, b)``, and zero elsewhere.\n",
            "    \n",
            "    When ``high`` == ``low``, values of ``low`` will be returned.\n",
            "    If ``high`` < ``low``, the results are officially undefined\n",
            "    and may eventually raise an error, i.e. do not rely on this\n",
            "    function to behave when passed arguments satisfying that\n",
            "    inequality condition. The ``high`` limit may be included in the\n",
            "    returned array of floats due to floating-point rounding in the\n",
            "    equation ``low + (high-low) * random_sample()``. For example:\n",
            "    \n",
            "    >>> x = np.float32(5*0.99999999)\n",
            "    >>> x\n",
            "    5.0\n",
            "    \n",
            "    \n",
            "    Examples\n",
            "    --------\n",
            "    Draw samples from the distribution:\n",
            "    \n",
            "    >>> s = np.random.uniform(-1,0,1000)\n",
            "    \n",
            "    All values are within the given interval:\n",
            "    \n",
            "    >>> np.all(s >= -1)\n",
            "    True\n",
            "    >>> np.all(s < 0)\n",
            "    True\n",
            "    \n",
            "    Display the histogram of the samples, along with the\n",
            "    probability density function:\n",
            "    \n",
            "    >>> import matplotlib.pyplot as plt\n",
            "    >>> count, bins, ignored = plt.hist(s, 15, density=True)\n",
            "    >>> plt.plot(bins, np.ones_like(bins), linewidth=2, color='r')\n",
            "    >>> plt.show()\n",
            "\n"
          ]
        }
      ]
    },
    {
      "cell_type": "markdown",
      "metadata": {
        "id": "aKCQs6kZIsRC"
      },
      "source": [
        "#### What is the value and shape of y?"
      ]
    },
    {
      "cell_type": "code",
      "metadata": {
        "id": "WAkm_b74JDHu",
        "colab": {
          "base_uri": "https://localhost:8080/"
        },
        "outputId": "75a86fcf-4c76-49e7-eb2a-125ad808a88d"
      },
      "source": [
        "y = np.zeros(5)       \n",
        "roll_idx = np.array(range(5))\n",
        "y[roll_idx] = np.floor(np.random.uniform(0,6, roll_idx.shape))\n",
        "print(y)\n",
        "print(y.shape)"
      ],
      "execution_count": null,
      "outputs": [
        {
          "output_type": "stream",
          "name": "stdout",
          "text": [
            "[0. 4. 3. 5. 0.]\n",
            "(5,)\n"
          ]
        }
      ]
    },
    {
      "cell_type": "code",
      "metadata": {
        "id": "5gNLxBvRKq9P",
        "colab": {
          "base_uri": "https://localhost:8080/"
        },
        "outputId": "1153fca7-c8a6-4f47-ad48-5fc371fc2758"
      },
      "source": [
        "y = np.zeros((5,1))       \n",
        "roll_idx = np.array(range(5))\n",
        "# note the need for a second index, since y is now a 2D array!\n",
        "y[roll_idx, 0] = np.floor(np.random.uniform(0,6, roll_idx.shape))\n",
        "print(y)\n",
        "print(y.shape)"
      ],
      "execution_count": null,
      "outputs": [
        {
          "output_type": "stream",
          "name": "stdout",
          "text": [
            "[[2.]\n",
            " [2.]\n",
            " [1.]\n",
            " [1.]\n",
            " [5.]]\n",
            "(5, 1)\n"
          ]
        }
      ]
    },
    {
      "cell_type": "code",
      "metadata": {
        "id": "t1PSQlx1MltF",
        "colab": {
          "base_uri": "https://localhost:8080/"
        },
        "outputId": "d6dc9a97-2318-45f2-ed20-73454b8c8e3e"
      },
      "source": [
        "y = np.zeros((5,5))       \n",
        "roll_idx = np.array(range(5))\n",
        "# : is shorthand for selecting all indices along an axis. More on indexing later\n",
        "# What happens if we run y[:, roll_idx] instead?\n",
        "y[roll_idx, :] = np.floor(np.random.uniform(0,6, roll_idx.shape))\n",
        "print(y)\n",
        "print(y.shape)"
      ],
      "execution_count": null,
      "outputs": [
        {
          "output_type": "stream",
          "name": "stdout",
          "text": [
            "[[4. 4. 5. 2. 3.]\n",
            " [4. 4. 5. 2. 3.]\n",
            " [4. 4. 5. 2. 3.]\n",
            " [4. 4. 5. 2. 3.]\n",
            " [4. 4. 5. 2. 3.]]\n",
            "(5, 5)\n"
          ]
        }
      ]
    },
    {
      "cell_type": "markdown",
      "metadata": {
        "id": "UolGS4qzZNoe"
      },
      "source": [
        "### Re-rolling"
      ]
    },
    {
      "cell_type": "markdown",
      "metadata": {
        "id": "8N7ejrAGZ028"
      },
      "source": [
        "#### Random number generation\n",
        "```python\n",
        "np.random.seed(0)\n",
        "```\n",
        "\n",
        "---\n",
        "\n",
        "- `np.random.seed(0)` sets the seed of the Numpy's random number generator to 0, ensuring that subsequent calls to `np.random` functions are reproducible\n",
        "  - note that any `int`, not just 0, will work as a reproducible seed"
      ]
    },
    {
      "cell_type": "code",
      "metadata": {
        "id": "z7EvAUxXZO5L",
        "colab": {
          "base_uri": "https://localhost:8080/"
        },
        "outputId": "148da90a-231e-4b3c-cd80-aeb399e454ba"
      },
      "source": [
        "# Here we're using the random seed to make sure our first roll is reproducible\n",
        "np.random.seed(0)\n",
        "y = np.zeros(5)       \n",
        "roll_idx = np.array(range(5))\n",
        "y[roll_idx] = np.floor(np.random.uniform(0,6, roll_idx.shape))\n",
        "print(y)"
      ],
      "execution_count": null,
      "outputs": [
        {
          "output_type": "stream",
          "name": "stdout",
          "text": [
            "[3. 4. 3. 3. 2.]\n"
          ]
        }
      ]
    },
    {
      "cell_type": "markdown",
      "metadata": {
        "id": "JbJLraMAakrk"
      },
      "source": [
        "- 3 is the most common, so we want to re-roll indices 1 and 4"
      ]
    },
    {
      "cell_type": "markdown",
      "metadata": {
        "id": "A6sRQgncdWsa"
      },
      "source": [
        "#### How do we get the indices to re-roll?"
      ]
    },
    {
      "cell_type": "code",
      "metadata": {
        "id": "89OQPeMuciO5",
        "colab": {
          "base_uri": "https://localhost:8080/"
        },
        "outputId": "08f88a65-b74d-4989-dd5b-3a3400e860ab"
      },
      "source": [
        "# check which entries of y aren't 3 \n",
        "y != 3"
      ],
      "execution_count": null,
      "outputs": [
        {
          "output_type": "execute_result",
          "data": {
            "text/plain": [
              "array([False,  True, False, False,  True])"
            ]
          },
          "metadata": {},
          "execution_count": 42
        }
      ]
    },
    {
      "cell_type": "code",
      "metadata": {
        "id": "YxLH3YWVdn5G",
        "colab": {
          "base_uri": "https://localhost:8080/"
        },
        "outputId": "d6e6b197-bed5-4094-9f83-3f5e23a94176"
      },
      "source": [
        "# return the indices that are \"True\" -- interpreted as non-zero by Numpy\n",
        "# note the return shape! np.nonzero returns a tuple of arrays, one for each axis\n",
        "np.nonzero(y != 3)"
      ],
      "execution_count": null,
      "outputs": [
        {
          "output_type": "execute_result",
          "data": {
            "text/plain": [
              "(array([1, 4]),)"
            ]
          },
          "metadata": {},
          "execution_count": 43
        }
      ]
    },
    {
      "cell_type": "code",
      "metadata": {
        "id": "T6Oq9g3rfWaT",
        "colab": {
          "base_uri": "https://localhost:8080/"
        },
        "outputId": "933b064e-3cec-44c9-b68e-2934248ac07b"
      },
      "source": [
        "# assign the new roll_idx\n",
        "roll_idx = np.nonzero(y != 3)[0]\n",
        "print(roll_idx)"
      ],
      "execution_count": null,
      "outputs": [
        {
          "output_type": "stream",
          "name": "stdout",
          "text": [
            "[1 4]\n"
          ]
        }
      ]
    },
    {
      "cell_type": "markdown",
      "metadata": {
        "id": "xp4ODaGQgBrE"
      },
      "source": [
        "#### The general re-roll case\n"
      ]
    },
    {
      "cell_type": "code",
      "metadata": {
        "id": "M6n1rIXog94x",
        "colab": {
          "base_uri": "https://localhost:8080/"
        },
        "outputId": "e1f5ef6d-f8be-4ff1-e6e2-0f50f73e1c26"
      },
      "source": [
        "# count the number of dice we've rolled for each number\n",
        "counts = [sum(y == i) for i in range(6)]\n",
        "print(counts)"
      ],
      "execution_count": null,
      "outputs": [
        {
          "output_type": "stream",
          "name": "stdout",
          "text": [
            "[0, 0, 1, 3, 1, 0]\n"
          ]
        }
      ]
    },
    {
      "cell_type": "code",
      "metadata": {
        "id": "aGxLQAa4hL_s",
        "colab": {
          "base_uri": "https://localhost:8080/"
        },
        "outputId": "c8a1ee3d-3171-4f90-efdd-60a44a1b97f7"
      },
      "source": [
        "# Find the idx of the most common roll\n",
        "max_idx = np.argmax(counts)\n",
        "print(max_idx)"
      ],
      "execution_count": null,
      "outputs": [
        {
          "output_type": "stream",
          "name": "stdout",
          "text": [
            "3\n"
          ]
        }
      ]
    },
    {
      "cell_type": "code",
      "metadata": {
        "id": "-H5cVmBhh2fN",
        "colab": {
          "base_uri": "https://localhost:8080/"
        },
        "outputId": "a08ce119-2dea-4038-9fa9-06eb3b7b1865"
      },
      "source": [
        "# update the indices to re-roll accordingly\n",
        "roll_idx = np.nonzero(y != max_idx)[0]    \n",
        "print(roll_idx)"
      ],
      "execution_count": null,
      "outputs": [
        {
          "output_type": "stream",
          "name": "stdout",
          "text": [
            "[1 4]\n"
          ]
        }
      ]
    },
    {
      "cell_type": "markdown",
      "metadata": {
        "id": "zQitGbIOiYXP"
      },
      "source": [
        "### Putting it all together"
      ]
    },
    {
      "cell_type": "code",
      "metadata": {
        "id": "zzdvu2Q8ibEo"
      },
      "source": [
        "def yamslam():\n",
        "  \"\"\"Plays one round of yamslam, re-rolling 5 dice up to 3 times.\n",
        "  Also prints exuberantly if we do get a yamslam.\n",
        "  Returns:\n",
        "    int: 1 if we got a yamslam, 0 if not\n",
        "  \"\"\"\n",
        "  y = np.zeros(5)       # for the 5 dice, to store the values\n",
        "  roll_idx = np.array(range(5)) # allows us to set all 5 values at once\n",
        "  for reroll in range(3): # 3 rerolls\n",
        "    y[roll_idx] = np.floor(np.random.uniform(0,6,roll_idx.shape)) # roll the dice\n",
        "    counts = [sum(y == i) for i in range(6)] # count number of each outcome\n",
        "    max_idx = np.argmax(counts) # which was the most frequent?\n",
        "    \n",
        "    if np.max(counts) == 5: # all 5 dice were the same!!!\n",
        "      print('YAMSLAM!')\n",
        "      return 1\n",
        "    \n",
        "    roll_idx = np.nonzero(y != max_idx)[0]  # update the indices to re-roll\n",
        "    \n",
        "  # we've run all 3 re-rolls but still didn't get a yamslam\n",
        "  return 0      "
      ],
      "execution_count": null,
      "outputs": []
    },
    {
      "cell_type": "markdown",
      "metadata": {
        "id": "nXqnulr7HPwQ"
      },
      "source": [
        "#### Running multiple trials"
      ]
    },
    {
      "cell_type": "code",
      "metadata": {
        "id": "dlOCYgYHjm37",
        "colab": {
          "base_uri": "https://localhost:8080/"
        },
        "outputId": "9598a377-88d3-4287-c55d-3da38d9e412f"
      },
      "source": [
        "%%time\n",
        "import numpy as np\n",
        "yamslam_trials = []\n",
        "for i in range(100):\n",
        "  yamslam_trials.append(yamslam())\n",
        "  \n",
        "print(\"Probability of yamslam: {}\".format(np.mean(yamslam_trials)))"
      ],
      "execution_count": null,
      "outputs": [
        {
          "output_type": "stream",
          "name": "stdout",
          "text": [
            "YAMSLAM!\n",
            "Probability of yamslam: 0.01\n",
            "CPU times: user 68.7 ms, sys: 3.94 ms, total: 72.6 ms\n",
            "Wall time: 76.9 ms\n"
          ]
        }
      ]
    },
    {
      "cell_type": "markdown",
      "metadata": {
        "id": "8h3sk1fCKT9A"
      },
      "source": [
        "#### Improving the code\n",
        "\n",
        "```python\n",
        "counts = [sum(y == i) for i in range(6)]\n",
        "max_idx = np.argmax(counts)\n",
        "```\n",
        "\n",
        "---\n",
        "\n",
        "- `np.bincounts` produces the same result for `count` as our list comprehension\n",
        "\n",
        "- More importantly, what is the above code effectively calculating?"
      ]
    },
    {
      "cell_type": "code",
      "metadata": {
        "id": "6PWxgtwDK9jt"
      },
      "source": [
        "# We're calculating the mode!\n",
        "from scipy.stats import mode\n",
        "\n",
        "np.random.seed(0)\n",
        "y = np.zeros(5)       \n",
        "roll_idx = np.array(range(5))\n",
        "y[roll_idx] = np.floor(np.random.uniform(0,6, roll_idx.shape))\n",
        "roll_idx = np.nonzero(y != mode(y)[0])[0]  "
      ],
      "execution_count": null,
      "outputs": []
    },
    {
      "cell_type": "markdown",
      "metadata": {
        "id": "yM6HdUKGbk0u"
      },
      "source": [
        "*Tip: before implementing a mathematical operation, check the documentation to see if it's already part of the library -- chances are, it is.*"
      ]
    },
    {
      "cell_type": "markdown",
      "metadata": {
        "id": "c13o7TcTAZKP"
      },
      "source": [
        "## **Practice Questions**\n"
      ]
    },
    {
      "cell_type": "markdown",
      "metadata": {
        "id": "9YI210-tAiXi"
      },
      "source": [
        "Question 1: Dot Product Manually vs Numpy: Create Two random Arrays using Numpy and then calculate their dot product via for loops and then calculate via numpy.dot(). \n",
        "\n",
        "We will record the time difference between two. Unfortunately, when we wish to use elapsed times programmatically, cell magics are not quite enough, so we use the ``timeit`` package.\n"
      ]
    },
    {
      "cell_type": "code",
      "source": [
        "import timeit"
      ],
      "metadata": {
        "id": "ywU1hZV1aYQ-"
      },
      "execution_count": null,
      "outputs": []
    },
    {
      "cell_type": "code",
      "source": [
        "#Create random vectors a and b or size 10,000 using numpy and then calculate the dot product\n",
        "# between the two finding the dot product using for loops and then from using numpy.dot. \n",
        "\n",
        "## Using for loops\n",
        "\n",
        "a =   # Initialize a here\n",
        "b =   # Initialize b here\n",
        "\n",
        "dot_loops = 0\n",
        "\n",
        "start_time = timeit.default_timer()\n",
        "\n",
        "# Write for loop here (update dot_loops)\n",
        "\n",
        "\n",
        "# End for loop\n",
        "\n",
        "loop_time = timeit.default_timer() - start_time\n",
        "print(dot_loops)"
      ],
      "metadata": {
        "id": "mvnf8XVkZUTs"
      },
      "execution_count": null,
      "outputs": []
    },
    {
      "cell_type": "code",
      "metadata": {
        "id": "3Duf6FaNAcem",
        "colab": {
          "base_uri": "https://localhost:8080/"
        },
        "outputId": "20334d00-f849-4aba-a6ae-264e3a5e06c0"
      },
      "source": [
        "# Using numpy\n",
        "\n",
        "start_time = timeit.default_timer()\n",
        "dot_np =        # Call a numpy function here to get the dot product of a and b\n",
        "np_time = timeit.default_timer() - start_time\n",
        "print(dot_np)"
      ],
      "execution_count": null,
      "outputs": [
        {
          "output_type": "stream",
          "name": "stdout",
          "text": [
            "2535.3354911401298\n"
          ]
        }
      ]
    },
    {
      "cell_type": "markdown",
      "source": [
        "Submit to autograder"
      ],
      "metadata": {
        "id": "JxR_Nn6sbBez"
      }
    },
    {
      "cell_type": "code",
      "source": [
        "grader.grade(test_case_id = 'test_case_dot_product', answer = (a, b, dot_loops, loop_time, dot_np, np_time))"
      ],
      "metadata": {
        "colab": {
          "base_uri": "https://localhost:8080/"
        },
        "id": "SPGFnSEw7hrn",
        "outputId": "b27949ce-57f3-4af0-abca-21434498a6b4"
      },
      "execution_count": null,
      "outputs": [
        {
          "output_type": "stream",
          "name": "stdout",
          "text": [
            "Correct! You earned 2.0/2.0 points. You are a star!\n",
            "\n",
            "Your submission has been successfully recorded in the gradebook.\n"
          ]
        }
      ]
    },
    {
      "cell_type": "markdown",
      "metadata": {
        "id": "ThJqfCVkCkqL"
      },
      "source": [
        "Question 2: Matrix: Do multiplication on a given (100,100) matrix on a corresponding vector iteratively vs using vectorization"
      ]
    },
    {
      "cell_type": "code",
      "metadata": {
        "id": "uakoBZosCxGL"
      },
      "source": [
        "#Initialize a (100,100) and a (100,1) vector and compute the matrix product of\n",
        "#the two iteratively and by vectorization.\n",
        "\n",
        "a =     # Initialize (100,100) matrix here\n",
        "b =     # Initialize (100,1) vector here\n",
        "\n",
        "\n",
        "mult_loop = []\n",
        "\n",
        "start_time = timeit.default_timer()\n",
        "\n",
        "# Write loop code here\n",
        "\n",
        "\n",
        "# End loop code here\n",
        "\n",
        "# Do not modify below here\n",
        "loop_time = timeit.default_timer() - start_time\n",
        "\n",
        "mult_loop = np.array(mult_loop)\n",
        "\n",
        "print(mult_loop)"
      ],
      "execution_count": null,
      "outputs": []
    },
    {
      "cell_type": "code",
      "source": [
        "# Using numpy\n",
        "\n",
        "start_time = timeit.default_timer()\n",
        "mult_np =           # Call a numpy function here to get the matrix-vector product of a and b\n",
        "np_time = timeit.default_timer() - start_time\n",
        "\n",
        "print(mult_np)"
      ],
      "metadata": {
        "id": "q-k2YUtAIg7r"
      },
      "execution_count": null,
      "outputs": []
    },
    {
      "cell_type": "markdown",
      "source": [
        "Submit to autograder"
      ],
      "metadata": {
        "id": "N6zcrBonI1Ug"
      }
    },
    {
      "cell_type": "code",
      "source": [
        "grader.grade(test_case_id = 'test_case_mult', answer = (a, b, mult_loop, loop_time, mult_np, np_time))"
      ],
      "metadata": {
        "id": "xzmFz0AMI1Uh"
      },
      "execution_count": null,
      "outputs": []
    },
    {
      "cell_type": "markdown",
      "metadata": {
        "id": "AvEw1Gtoxh0_"
      },
      "source": [
        "Question 3: Outer Product: Compute the outer product of two vectors (outer product of (100,1) with (1,100) vectors should be (100,100) matrix)"
      ]
    },
    {
      "cell_type": "code",
      "metadata": {
        "id": "MHa5uw2yyyRl"
      },
      "source": [
        "#Initialize two vectors of size (100, 1) and (1, 100) using numpy (make sure dimensions match)\n",
        "#Calculate the outer product between them\n",
        "\n",
        "a =             # Initialize (100, 1) vector here\n",
        "b =             # Initialize (1, 100) vector here\n",
        "\n",
        "outer =         # Compute outer product here\n",
        "\n",
        "print(outer)"
      ],
      "execution_count": null,
      "outputs": []
    },
    {
      "cell_type": "markdown",
      "source": [
        "Submit to Autograder"
      ],
      "metadata": {
        "id": "Fe7xbofsKC5X"
      }
    },
    {
      "cell_type": "code",
      "source": [
        "grader.grade(test_case_id = 'test_case_outer', answer = (a, b, outer))"
      ],
      "metadata": {
        "colab": {
          "base_uri": "https://localhost:8080/"
        },
        "id": "YNPY7wKoKFFU",
        "outputId": "853b70c6-bfbe-425f-8017-8511432716ff"
      },
      "execution_count": null,
      "outputs": [
        {
          "output_type": "stream",
          "name": "stdout",
          "text": [
            "Correct! You earned 2.0/2.0 points. You are a star!\n",
            "\n",
            "Your submission has been successfully recorded in the gradebook.\n"
          ]
        }
      ]
    },
    {
      "cell_type": "markdown",
      "metadata": {
        "id": "57povjPX1h38"
      },
      "source": [
        "Question 4: Elementwise multiplication: Compute the elementwise product of two (1,10000) vectors iteratively and using vectorization"
      ]
    },
    {
      "cell_type": "code",
      "metadata": {
        "id": "V_0B1KF_2Dcu",
        "colab": {
          "base_uri": "https://localhost:8080/"
        },
        "outputId": "2f508f6c-fc94-402f-b1b3-b367eb7e12af"
      },
      "source": [
        "#Initialize two vectors of size (1, 10000)\n",
        "#Compute the elementwise product of both iteratively and through vectorization\n",
        "\n",
        "\n",
        "a =         # Initialize (1, 10000) vector here\n",
        "b =         # Initialize (1, 10000) vector here\n",
        "\n",
        "\n",
        "eltwise_loop = []\n",
        "\n",
        "start_time = timeit.default_timer()\n",
        "\n",
        "# Loop code here\n",
        "\n",
        "\n",
        "\n",
        "\n",
        "# End loop code here\n",
        "\n",
        "# Do not modify below this\n",
        "loop_time = timeit.default_timer() - start_time\n",
        "eltwise_loop = np.array(eltwise_loop)\n",
        "\n",
        "print(eltwise_loop)\n"
      ],
      "execution_count": null,
      "outputs": [
        {
          "output_type": "stream",
          "name": "stdout",
          "text": [
            "[[0.04293528 0.44177341 0.17401767 ... 0.08308864 0.70962016 0.19133979]]\n"
          ]
        }
      ]
    },
    {
      "cell_type": "code",
      "source": [
        "start_time = timeit.default_timer()\n",
        "eltwise_np =            # Compute element-wise product of a, b using a np function\n",
        "np_time = timeit.default_timer() - start_time\n",
        "\n",
        "print(eltwise_np)"
      ],
      "metadata": {
        "colab": {
          "base_uri": "https://localhost:8080/"
        },
        "id": "kIxA4xZsLkFF",
        "outputId": "6a405fdf-58ba-4353-e429-e4e502eb7dcf"
      },
      "execution_count": null,
      "outputs": [
        {
          "output_type": "stream",
          "name": "stdout",
          "text": [
            "[[0.04293528 0.44177341 0.17401767 ... 0.08308864 0.70962016 0.19133979]]\n"
          ]
        }
      ]
    },
    {
      "cell_type": "code",
      "source": [
        "grader.grade(test_case_id = 'test_case_eltwise', answer = (a, b, eltwise_loop, loop_time, eltwise_np, np_time))"
      ],
      "metadata": {
        "colab": {
          "base_uri": "https://localhost:8080/"
        },
        "id": "qSEGaxpfMFPu",
        "outputId": "1105a1eb-2b71-474c-c9b3-19adb17eb4af"
      },
      "execution_count": null,
      "outputs": [
        {
          "output_type": "stream",
          "name": "stdout",
          "text": [
            "Correct! You earned 2.0/2.0 points. You are a star!\n",
            "\n",
            "Your submission has been successfully recorded in the gradebook.\n"
          ]
        }
      ]
    },
    {
      "cell_type": "markdown",
      "metadata": {
        "id": "fplstbsQ2Lq6"
      },
      "source": [
        "Question 5: Generate a (100,100) matrix where each element is a value of sin(x) on the domain of [0,pi]"
      ]
    },
    {
      "cell_type": "code",
      "metadata": {
        "id": "o9Js6Xmd4YHg"
      },
      "source": [
        "#Generate a (100,100) matrix called data whose values are sin(x) on x -> [0,pi]\n",
        "# That is, data is a 100 x 100 matrix such that the ij-th element is sin(x) with x \n",
        "# sampled uniformly on [0, pi]\n",
        "\n"
      ],
      "execution_count": null,
      "outputs": []
    },
    {
      "cell_type": "code",
      "metadata": {
        "id": "LGbLCU1R4e2v",
        "colab": {
          "base_uri": "https://localhost:8080/"
        },
        "outputId": "6bd099e4-c314-4ee1-fd80-5a4b40deba0e"
      },
      "source": [
        "grader.grade(test_case_id = 'test_case_sin', answer = data)"
      ],
      "execution_count": null,
      "outputs": [
        {
          "output_type": "stream",
          "name": "stdout",
          "text": [
            "Correct! You earned 2.0/2.0 points. You are a star!\n",
            "\n",
            "Your submission has been successfully recorded in the gradebook.\n"
          ]
        }
      ]
    },
    {
      "cell_type": "markdown",
      "metadata": {
        "id": "E6ZklmXKUZml"
      },
      "source": [
        "## **Summary**\n",
        "\n",
        "- Before writing a loop, consider if the operation can be *vectorized*\n",
        "- Vectorization is the application of an operation over an entire array, instead of element by element\n",
        "- Results in more concise code, and many vectorized implementations of functions are optimized\n",
        "\n",
        "Super! You have finished this worksheet. If you want to learn other powerful NumPy methods, I strongly encourage you to learn [NumPy Tutorial](https://github.com/ageron/handson-ml/blob/master/tools_numpy.ipynb). And you could practice vectorization by completing array_practice.ipynb."
      ]
    },
    {
      "cell_type": "markdown",
      "source": [
        "## **Submitting to the Autograder**"
      ],
      "metadata": {
        "id": "Yk0c2GezbXlx"
      }
    },
    {
      "cell_type": "markdown",
      "source": [
        "Now go to the File menu and choose \"Download .ipynb\".  Go to [Gradescope](https://www.gradescope.com/courses/409970) and:\n",
        "\n",
        "1. From \"File\" --> Download both .ipynb and .py files\n",
        "1. Name these files `Vectorization_WS.ipynb` and `Vectorization_WS.py` respectively\n",
        "1. Sign in using your Penn email address (if you are a SEAS student we recommend using the Google login) and ensure  your class is \"CIS 5200\"\n",
        "1. Select **Worksheet: Vectorization**\n",
        "1. Upload both files\n",
        "1. PLEASE CHECK THE AUTOGRADER OUTPUT TO ENSURE YOUR SUBMISSION IS PROCESSED CORRECTLY!\n",
        "\n",
        "You should be set! Note that this assignment has 10 autograded points that will show up upon submission. Points are awarded based on a combination of correctness and sufficient effort. "
      ],
      "metadata": {
        "id": "14QY2kw0bfhc"
      }
    }
  ]
}